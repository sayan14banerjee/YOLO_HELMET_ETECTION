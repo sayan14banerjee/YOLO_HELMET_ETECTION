{
 "cells": [
  {
   "cell_type": "code",
   "execution_count": 1,
   "id": "0345c5c5",
   "metadata": {},
   "outputs": [],
   "source": [
    "import os\n",
    "import xml.etree.ElementTree as ET"
   ]
  },
  {
   "cell_type": "code",
   "execution_count": 2,
   "id": "9b1da292",
   "metadata": {},
   "outputs": [],
   "source": [
    "# Paths\n",
    "annotations_dir = \"../data/annotations\"\n",
    "output_dir = \"../data/labels\""
   ]
  },
  {
   "cell_type": "code",
   "execution_count": 3,
   "id": "70e5a9e3",
   "metadata": {},
   "outputs": [],
   "source": [
    "# Define class mapping\n",
    "class_mapping = {\n",
    "    \"With Helmet\": 0,\n",
    "    \"Without Helmet\": 1\n",
    "}"
   ]
  },
  {
   "cell_type": "code",
   "execution_count": 4,
   "id": "ba65ebd7",
   "metadata": {},
   "outputs": [],
   "source": [
    "# Loop through all XML files\n",
    "for xml_file in os.listdir(annotations_dir):\n",
    "    if not xml_file.endswith(\".xml\"):\n",
    "        continue\n",
    "\n",
    "    tree = ET.parse(os.path.join(annotations_dir, xml_file))\n",
    "    root = tree.getroot()\n",
    "\n",
    "    # Get image size\n",
    "    size = root.find(\"size\")\n",
    "    img_w = int(size.find(\"width\").text) # type: ignore\n",
    "    img_h = int(size.find(\"height\").text) # type: ignore\n",
    "\n",
    "    # Prepare YOLO lines\n",
    "    yolo_lines = []\n",
    "    for obj in root.findall(\"object\"):\n",
    "        class_name = obj.find(\"name\").text # type: ignore\n",
    "        if class_name not in class_mapping:\n",
    "            continue  # skip unknown classes\n",
    "\n",
    "        class_id = class_mapping[class_name]\n",
    "\n",
    "        bndbox = obj.find(\"bndbox\")\n",
    "        xmin = int(bndbox.find(\"xmin\").text) # type: ignore\n",
    "        ymin = int(bndbox.find(\"ymin\").text) # type: ignore\n",
    "        xmax = int(bndbox.find(\"xmax\").text) # type: ignore\n",
    "        ymax = int(bndbox.find(\"ymax\").text)# type: ignore\n",
    "\n",
    "        # Convert to YOLO format\n",
    "        x_center = ((xmin + xmax) / 2) / img_w\n",
    "        y_center = ((ymin + ymax) / 2) / img_h\n",
    "        width = (xmax - xmin) / img_w\n",
    "        height = (ymax - ymin) / img_h\n",
    "\n",
    "        yolo_lines.append(f\"{class_id} {x_center:.6f} {y_center:.6f} {width:.6f} {height:.6f}\")\n",
    "\n",
    "    # Save to .txt file with same name as image\n",
    "    txt_file = xml_file.replace(\".xml\", \".txt\")\n",
    "    with open(os.path.join(output_dir, txt_file), \"w\") as f:\n",
    "        f.write(\"\\n\".join(yolo_lines))"
   ]
  },
  {
   "cell_type": "code",
   "execution_count": null,
   "id": "45c4f9c7",
   "metadata": {},
   "outputs": [],
   "source": []
  }
 ],
 "metadata": {
  "kernelspec": {
   "display_name": "venv",
   "language": "python",
   "name": "python3"
  },
  "language_info": {
   "codemirror_mode": {
    "name": "ipython",
    "version": 3
   },
   "file_extension": ".py",
   "mimetype": "text/x-python",
   "name": "python",
   "nbconvert_exporter": "python",
   "pygments_lexer": "ipython3",
   "version": "3.12.2"
  }
 },
 "nbformat": 4,
 "nbformat_minor": 5
}
