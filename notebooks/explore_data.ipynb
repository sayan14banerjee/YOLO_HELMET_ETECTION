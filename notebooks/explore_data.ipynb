{
 "cells": [
  {
   "cell_type": "code",
   "execution_count": 5,
   "id": "bb464c39",
   "metadata": {},
   "outputs": [],
   "source": [
    "import os, random, shutil"
   ]
  },
  {
   "cell_type": "code",
   "execution_count": 14,
   "id": "4a2445f1",
   "metadata": {},
   "outputs": [],
   "source": [
    "# Paths\n",
    "img_path = \"../data/images\"\n",
    "lbl_path = \"../data/labels\""
   ]
  },
  {
   "cell_type": "code",
   "execution_count": 15,
   "id": "46f18be2",
   "metadata": {},
   "outputs": [],
   "source": [
    "# Create train/val folders\n",
    "for split in [\"train\", \"val\"]:\n",
    "    os.makedirs(f\"helmet-dataset/images/{split}\", exist_ok=True)\n",
    "    os.makedirs(f\"helmet-dataset/labels/{split}\", exist_ok=True)"
   ]
  },
  {
   "cell_type": "code",
   "execution_count": 16,
   "id": "38e06069",
   "metadata": {},
   "outputs": [],
   "source": [
    "# Get all images\n",
    "images = [f for f in os.listdir(img_path) if f.endswith(\".png\") or f.endswith(\".jpg\")]\n",
    "random.shuffle(images)\n"
   ]
  },
  {
   "cell_type": "code",
   "execution_count": 17,
   "id": "9b94c3ea",
   "metadata": {},
   "outputs": [],
   "source": [
    "# 80-20 split\n",
    "split_index = int(0.8 * len(images))\n",
    "train_imgs, val_imgs = images[:split_index], images[split_index:]"
   ]
  },
  {
   "cell_type": "code",
   "execution_count": 18,
   "id": "254e247e",
   "metadata": {},
   "outputs": [],
   "source": [
    "# Move files\n",
    "for img_list, split in [(train_imgs, \"train\"), (val_imgs, \"val\")]:\n",
    "    for img in img_list:\n",
    "        lbl = img.replace(\".png\", \".txt\").replace(\".jpg\", \".txt\")\n",
    "        src_img = f\"{img_path}/{img}\"\n",
    "        dst_img = f\"../data/images/{split}/{img}\"\n",
    "        src_lbl = f\"{lbl_path}/{lbl}\"\n",
    "        dst_lbl = f\"../data/labels/{split}/{lbl}\"\n",
    "        if os.path.exists(src_img):\n",
    "            shutil.move(src_img, dst_img)\n",
    "        else:\n",
    "            print(f\"Image not found: {src_img}\")\n",
    "        if os.path.exists(src_lbl):\n",
    "            shutil.move(src_lbl, dst_lbl)\n",
    "        else:\n",
    "            print(f\"Label not found: {src_lbl}\")"
   ]
  },
  {
   "cell_type": "code",
   "execution_count": null,
   "id": "a14dd86d",
   "metadata": {},
   "outputs": [],
   "source": []
  }
 ],
 "metadata": {
  "kernelspec": {
   "display_name": "venv",
   "language": "python",
   "name": "python3"
  },
  "language_info": {
   "codemirror_mode": {
    "name": "ipython",
    "version": 3
   },
   "file_extension": ".py",
   "mimetype": "text/x-python",
   "name": "python",
   "nbconvert_exporter": "python",
   "pygments_lexer": "ipython3",
   "version": "3.12.2"
  }
 },
 "nbformat": 4,
 "nbformat_minor": 5
}
